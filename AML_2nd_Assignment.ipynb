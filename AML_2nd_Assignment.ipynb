{
  "nbformat": 4,
  "nbformat_minor": 0,
  "metadata": {
    "colab": {
      "provenance": []
    },
    "kernelspec": {
      "name": "python3",
      "display_name": "Python 3"
    },
    "language_info": {
      "name": "python"
    }
  },
  "cells": [
    {
      "cell_type": "code",
      "execution_count": 1,
      "metadata": {
        "colab": {
          "base_uri": "https://localhost:8080/"
        },
        "id": "TwSr20KoeqrD",
        "outputId": "447761e1-3c39-462b-cbc3-c2d74062cf66"
      },
      "outputs": [
        {
          "output_type": "stream",
          "name": "stdout",
          "text": [
            "my_X_train:\n",
            "[[11 12]\n",
            " [ 5  6]\n",
            " [ 9 10]\n",
            " [ 7  8]]\n",
            "\n",
            "my_y_train:\n",
            "[0 1 1 0]\n",
            "\n",
            "my_X_test:\n",
            "[[1 2]\n",
            " [3 4]]\n",
            "\n",
            "my_y_test:\n",
            "[0 1]\n"
          ]
        }
      ],
      "source": [
        "import numpy as np\n",
        "from sklearn.model_selection import train_test_split\n",
        "\n",
        "# Sample data\n",
        "my_data = np.array([[1, 2, 0], [3, 4, 1], [5, 6, 1], [7, 8, 0], [9, 10, 1], [11, 12, 0]])\n",
        "\n",
        "# Split the data using train_test_split\n",
        "my_X = my_data[:, :-1]\n",
        "my_y = my_data[:, -1]\n",
        "my_X_train, my_X_test, my_y_train, my_y_test = train_test_split(my_X, my_y, test_size=0.2, random_state=42)\n",
        "\n",
        "# Print the results\n",
        "print('my_X_train:')\n",
        "print(my_X_train)\n",
        "print('\\nmy_y_train:')\n",
        "print(my_y_train)\n",
        "print('\\nmy_X_test:')\n",
        "print(my_X_test)\n",
        "print('\\nmy_y_test:')\n",
        "print(my_y_test)\n"
      ]
    },
    {
      "cell_type": "code",
      "source": [
        "import numpy as np\n",
        "\n",
        "# Sample data\n",
        "my_data = np.array([[1, 2, 0], [3, 4, 1], [5, 6, 1], [7, 8, 0]])\n",
        "\n",
        "# Shuffle the data randomly\n",
        "np.random.shuffle(my_data)\n",
        "\n",
        "# Define the split fraction\n",
        "my_split_fraction = 0.8\n",
        "my_split = int(my_split_fraction * len(my_data))\n",
        "\n",
        "# Split the data into training and testing sets\n",
        "my_X_train = my_data[:my_split, :-1]\n",
        "my_y_train = my_data[:my_split, -1]\n",
        "my_X_test = my_data[my_split:, :-1]\n",
        "my_y_test = my_data[my_split:, -1]\n",
        "\n",
        "print('my_X_train:')\n",
        "print(my_X_train)\n",
        "print('\\nmy_y_train:')\n",
        "print(my_y_train)\n",
        "print('\\nmy_X_test:')\n",
        "print(my_X_test)\n",
        "print('\\nmy_y_test:')\n",
        "print(my_y_test)\n"
      ],
      "metadata": {
        "colab": {
          "base_uri": "https://localhost:8080/"
        },
        "id": "EFZvSVime0Bi",
        "outputId": "0c7cc685-b97c-42f6-cceb-bcbd9751f703"
      },
      "execution_count": 2,
      "outputs": [
        {
          "output_type": "stream",
          "name": "stdout",
          "text": [
            "my_X_train:\n",
            "[[7 8]\n",
            " [1 2]\n",
            " [5 6]]\n",
            "\n",
            "my_y_train:\n",
            "[0 0 1]\n",
            "\n",
            "my_X_test:\n",
            "[[3 4]]\n",
            "\n",
            "my_y_test:\n",
            "[1]\n"
          ]
        }
      ]
    },
    {
      "cell_type": "code",
      "source": [
        "import numpy as np\n",
        "\n",
        "def custom_random_split(input_X, input_y, train_fraction):\n",
        "    num_samples = input_X.shape[0]\n",
        "\n",
        "    # Shuffle the indices randomly\n",
        "    shuffled_indices = np.random.permutation(num_samples)\n",
        "\n",
        "    # Calculate the split index\n",
        "    split_index = int(train_fraction * num_samples)\n",
        "\n",
        "    # Select the first 'split_index' shuffled indices for training\n",
        "    train_indices = shuffled_indices[:split_index]\n",
        "\n",
        "    # Use the selected indices to split the data\n",
        "    X_train = input_X[train_indices]\n",
        "    y_train = input_y[train_indices]\n",
        "\n",
        "    # The rest of the indices are for testing\n",
        "    test_indices = shuffled_indices[split_index:]\n",
        "\n",
        "    X_test = input_X[test_indices]\n",
        "    y_test = input_y[test_indices]\n",
        "\n",
        "    return (X_train, y_train, X_test, y_test)\n",
        "\n",
        "# Sample data\n",
        "my_data = np.array([[1, 2, 0], [3, 4, 1], [5, 6, 1], [7, 8, 0]])\n",
        "\n",
        "# Split the data using custom_random_split\n",
        "my_X_train, my_y_train, my_X_test, my_y_test = custom_random_split(my_data[:, :-1], my_data[:, -1], train_fraction=0.8)\n",
        "\n",
        "# Print the results\n",
        "print('my_X_train:')\n",
        "print(my_X_train)\n",
        "print('\\nmy_y_train:')\n",
        "print(my_y_train)\n",
        "print('\\nmy_X_test:')\n",
        "print(my_X_test)\n",
        "print('\\nmy_y_test:')\n",
        "print(my_y_test)\n"
      ],
      "metadata": {
        "colab": {
          "base_uri": "https://localhost:8080/"
        },
        "id": "206akmm_fTB_",
        "outputId": "d532aec6-c433-45ef-bbaa-43ddb45b1a43"
      },
      "execution_count": 3,
      "outputs": [
        {
          "output_type": "stream",
          "name": "stdout",
          "text": [
            "my_X_train:\n",
            "[[3 4]\n",
            " [5 6]\n",
            " [1 2]]\n",
            "\n",
            "my_y_train:\n",
            "[1 1 0]\n",
            "\n",
            "my_X_test:\n",
            "[[7 8]]\n",
            "\n",
            "my_y_test:\n",
            "[0]\n"
          ]
        }
      ]
    },
    {
      "cell_type": "code",
      "source": [
        "import numpy as np\n",
        "\n",
        "# Sample data\n",
        "my_data = np.array([[1, 2, 0], [3, 4, 1], [5, 6, 1], [7, 8, 0]])\n",
        "\n",
        "# Define the split fraction\n",
        "my_split_fraction = 0.8\n",
        "\n",
        "# Calculate the split index\n",
        "my_split = int(my_split_fraction * len(my_data))\n",
        "\n",
        "# Split the data into training and testing sets\n",
        "my_X_train = my_data[:my_split, :-1]\n",
        "my_y_train = my_data[:my_split, -1]\n",
        "my_X_test = my_data[my_split:, :-1]\n",
        "my_y_test = my_data[my_split:, -1]\n",
        "\n",
        "# Print the results\n",
        "print('my_X_train:')\n",
        "print(my_X_train)\n",
        "print('\\nmy_y_train:')\n",
        "print(my_y_train)\n",
        "print('\\nmy_X_test:')\n",
        "print(my_X_test)\n",
        "print('\\nmy_y_test:')\n",
        "print(my_y_test)\n"
      ],
      "metadata": {
        "colab": {
          "base_uri": "https://localhost:8080/"
        },
        "id": "jMR_8HQ0f5Ol",
        "outputId": "509c1193-ca79-46f7-d575-37c27133bd55"
      },
      "execution_count": 4,
      "outputs": [
        {
          "output_type": "stream",
          "name": "stdout",
          "text": [
            "my_X_train:\n",
            "[[1 2]\n",
            " [3 4]\n",
            " [5 6]]\n",
            "\n",
            "my_y_train:\n",
            "[0 1 1]\n",
            "\n",
            "my_X_test:\n",
            "[[7 8]]\n",
            "\n",
            "my_y_test:\n",
            "[0]\n"
          ]
        }
      ]
    },
    {
      "cell_type": "code",
      "source": [
        "import numpy as np\n",
        "from sklearn.model_selection import train_test_split\n",
        "\n",
        "# Sample data\n",
        "my_data = np.array([[1, 2, 0], [3, 4, 1], [5, 6, 1], [7, 8, 0]])\n",
        "\n",
        "# Split the data using train_test_split\n",
        "my_X = my_data[:, :-1]\n",
        "my_y = my_data[:, -1]\n",
        "my_X_train, my_X_test, my_y_train, my_y_test = train_test_split(my_X, my_y, test_size=0.2, random_state=42)\n",
        "\n",
        "# Print the results\n",
        "print('my_X_train:')\n",
        "print(my_X_train)\n",
        "print('\\nmy_y_train:')\n",
        "print(my_y_train)\n",
        "print('\\nmy_X_test:')\n",
        "print(my_X_test)\n",
        "print('\\nmy_y_test:')\n",
        "print(my_y_test)\n"
      ],
      "metadata": {
        "colab": {
          "base_uri": "https://localhost:8080/"
        },
        "id": "ji6IU_JJgPlJ",
        "outputId": "43e4d92c-4738-4441-d70b-15d48368d97d"
      },
      "execution_count": 5,
      "outputs": [
        {
          "output_type": "stream",
          "name": "stdout",
          "text": [
            "my_X_train:\n",
            "[[7 8]\n",
            " [1 2]\n",
            " [5 6]]\n",
            "\n",
            "my_y_train:\n",
            "[0 0 1]\n",
            "\n",
            "my_X_test:\n",
            "[[3 4]]\n",
            "\n",
            "my_y_test:\n",
            "[1]\n"
          ]
        }
      ]
    },
    {
      "cell_type": "code",
      "source": [
        "import numpy as np\n",
        "\n",
        "class MyKNN:\n",
        "    def __init__(self, n_neighbors=5):\n",
        "        self.n_neighbors = n_neighbors\n",
        "        self.my_X_train = None\n",
        "        self.my_y_train = None\n",
        "\n",
        "    def fit(self, my_X, my_y):\n",
        "        self.my_X_train = my_X\n",
        "        self.my_y_train = my_y\n",
        "\n",
        "    def predict(self, my_X):\n",
        "        my_y_pred = np.zeros(my_X.shape[0])\n",
        "\n",
        "        for i, my_x in enumerate(my_X):\n",
        "            # Calculate distances between the current sample and all training samples\n",
        "            my_distances = np.linalg.norm(self.my_X_train - my_x, axis=1)\n",
        "\n",
        "            # Get indices of the k-nearest neighbors\n",
        "            my_k_indices = np.argsort(my_distances)[:self.n_neighbors]\n",
        "\n",
        "            # Find the most common class label among the neighbors\n",
        "            my_neighbor_labels = self.my_y_train[my_k_indices]\n",
        "            my_unique_labels, my_label_counts = np.unique(my_neighbor_labels, return_counts=True)\n",
        "            my_y_pred[i] = my_unique_labels[np.argmax(my_label_counts)]\n",
        "\n",
        "        return my_y_pred\n"
      ],
      "metadata": {
        "id": "O18-CuKagd0S"
      },
      "execution_count": 6,
      "outputs": []
    },
    {
      "cell_type": "code",
      "source": [
        "import numpy as np\n",
        "\n",
        "# Create an instance of the MyKNN class with default settings (5 neighbors)\n",
        "my_knn = MyKNN()\n",
        "\n",
        "# Define your training data and labels (example data)\n",
        "my_X_train = np.array([[1, 2], [2, 3], [3, 4], [4, 5]])\n",
        "my_y_train = np.array([0, 1, 0, 1])\n",
        "\n",
        "# Fit the MyKNN model with the training data and labels\n",
        "my_knn.fit(my_X_train, my_y_train)\n"
      ],
      "metadata": {
        "id": "9ToWdqRshdv6"
      },
      "execution_count": 7,
      "outputs": []
    },
    {
      "cell_type": "code",
      "source": [
        "import numpy as np\n",
        "from sklearn.metrics import accuracy_score\n",
        "\n",
        "# Define the MyKNN class\n",
        "class MyKNN:\n",
        "    def __init__(self, n_neighbors=5):\n",
        "        self.n_neighbors = n_neighbors\n",
        "        self.my_X_train = None\n",
        "        self.my_y_train = None\n",
        "\n",
        "    def fit(self, my_X, my_y):\n",
        "        self.my_X_train = my_X\n",
        "        self.my_y_train = my_y\n",
        "\n",
        "    def predict(self, my_X):\n",
        "        my_y_pred = np.zeros(my_X.shape[0])\n",
        "\n",
        "        for i, my_x in enumerate(my_X):\n",
        "            # Calculate distances between the current sample and all training samples\n",
        "            my_distances = np.linalg.norm(self.my_X_train - my_x, axis=1)\n",
        "\n",
        "            # Get indices of the k-nearest neighbors\n",
        "            my_k_indices = np.argsort(my_distances)[:self.n_neighbors]\n",
        "\n",
        "            # Find the most common class label among the neighbors\n",
        "            my_neighbor_labels = self.my_y_train[my_k_indices]\n",
        "            my_unique_labels, my_label_counts = np.unique(my_neighbor_labels, return_counts=True)\n",
        "            my_y_pred[i] = my_unique_labels[np.argmax(my_label_counts)]\n",
        "\n",
        "        return my_y_pred\n",
        "\n",
        "    def evaluate(self, my_X_test, my_y_test):\n",
        "        # Predict labels for the test data\n",
        "        my_y_pred = self.predict(my_X_test)\n",
        "\n",
        "        # Calculate accuracy\n",
        "        my_accuracy = accuracy_score(my_y_test, my_y_pred)\n",
        "\n",
        "        return my_accuracy, my_y_pred\n",
        "\n",
        "# Create an instance of the MyKNN class with default settings (5 neighbors)\n",
        "my_knn = MyKNN()\n",
        "\n",
        "# Define your training data and labels (example data)\n",
        "my_X_train = np.array([[1, 2], [2, 3], [3, 4], [4, 5]])\n",
        "my_y_train = np.array([0, 1, 0, 1])\n",
        "\n",
        "# Fit the MyKNN model with the training data and labels\n",
        "my_knn.fit(my_X_train, my_y_train)\n",
        "\n",
        "# Define your test data and labels (example data)\n",
        "my_X_test = np.array([[1.5, 2.5], [3.5, 4.5]])\n",
        "my_y_test = np.array([0, 0])\n",
        "\n",
        "# Evaluate the model and get predictions and accuracy\n",
        "my_accuracy, my_y_pred = my_knn.evaluate(my_X_test, my_y_test)\n",
        "\n",
        "# Print the results\n",
        "print(\"Predictions:\", my_y_pred)\n",
        "print(\"Accuracy:\", my_accuracy)\n"
      ],
      "metadata": {
        "colab": {
          "base_uri": "https://localhost:8080/"
        },
        "id": "u4MO7Eu-ikAH",
        "outputId": "f55d6809-4ca2-4e3a-e680-3aa91cf7cad2"
      },
      "execution_count": 8,
      "outputs": [
        {
          "output_type": "stream",
          "name": "stdout",
          "text": [
            "Predictions: [0. 0.]\n",
            "Accuracy: 1.0\n"
          ]
        }
      ]
    },
    {
      "cell_type": "code",
      "source": [
        "from sklearn.metrics import accuracy_score\n",
        "import numpy as np\n",
        "\n",
        "# Sample data (replace with your data)\n",
        "my_X_train = np.array([[1, 2], [2, 3], [3, 4], [4, 5]])\n",
        "my_y_train = np.array([0, 1, 0, 1])\n",
        "my_X_test = np.array([[2, 2], [3, 3]])\n",
        "my_y_true = np.array([0, 1])\n",
        "\n",
        "# Define a range of hyperparameters to search\n",
        "my_n_neighbors_values = [3, 5, 7]\n",
        "my_weights_values = ['uniform', 'distance']\n",
        "\n",
        "best_accuracy = 0\n",
        "best_params = {}\n",
        "\n",
        "# Iterate through all hyperparameter combinations\n",
        "for my_n_neighbors in my_n_neighbors_values:\n",
        "    for my_weights in my_weights_values:\n",
        "        # Create and train a KNN model with the current hyperparameters\n",
        "        class MyKNN:\n",
        "            def __init__(self):\n",
        "                self.my_n_neighbors = my_n_neighbors\n",
        "                self.my_weights = my_weights\n",
        "                self.my_X_train = None\n",
        "                self.my_y_train = None\n",
        "\n",
        "            def fit(self, my_X, my_y):\n",
        "                self.my_X_train = my_X\n",
        "                self.my_y_train = my_y\n",
        "\n",
        "            def predict(self, my_X):\n",
        "                my_y_pred = []\n",
        "\n",
        "                for my_x in my_X:\n",
        "                    # Calculate distances between the current sample and all training samples\n",
        "                    my_distances = [np.linalg.norm(my_x - my_x_train) for my_x_train in self.my_X_train]\n",
        "\n",
        "                    # Get indices of the k-nearest neighbors\n",
        "                    my_k_indices = np.argsort(my_distances)[:self.my_n_neighbors]\n",
        "\n",
        "                    # Find the most common class label among the neighbors\n",
        "                    my_neighbor_labels = [self.my_y_train[i] for i in my_k_indices]\n",
        "                    my_unique_labels, my_label_counts = np.unique(my_neighbor_labels, return_counts=True)\n",
        "                    my_y_pred.append(my_unique_labels[np.argmax(my_label_counts)])\n",
        "\n",
        "                return np.array(my_y_pred)\n",
        "\n",
        "        my_knn = MyKNN()\n",
        "        my_knn.fit(my_X_train, my_y_train)\n",
        "\n",
        "        # Make predictions on the test set\n",
        "        my_y_pred = my_knn.predict(my_X_test)\n",
        "\n",
        "        # Calculate accuracy\n",
        "        my_accuracy = accuracy_score(my_y_true, my_y_pred)\n",
        "\n",
        "        # Check if this combination of hyperparameters gives a better accuracy\n",
        "        if my_accuracy > best_accuracy:\n",
        "            best_accuracy = my_accuracy\n",
        "            best_params = {'n_neighbors': my_n_neighbors, 'weights': my_weights}\n",
        "\n",
        "print(f\"Best Hyperparameters: {best_params}\")\n",
        "print(f\"Best Accuracy: {best_accuracy}\")\n"
      ],
      "metadata": {
        "colab": {
          "base_uri": "https://localhost:8080/"
        },
        "id": "6iRMe9RQkzKD",
        "outputId": "944071e2-d8a3-415c-bd10-23eca79707ef"
      },
      "execution_count": 9,
      "outputs": [
        {
          "output_type": "stream",
          "name": "stdout",
          "text": [
            "Best Hyperparameters: {'n_neighbors': 3, 'weights': 'uniform'}\n",
            "Best Accuracy: 0.5\n"
          ]
        }
      ]
    }
  ]
}